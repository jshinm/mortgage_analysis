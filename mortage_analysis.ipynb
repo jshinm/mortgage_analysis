{
 "cells": [
  {
   "cell_type": "markdown",
   "source": [
    "## Mortage Analysis Project\r\n",
    "The purpose of the project is to better understand APR calculation and monthly principal + interest conversion. Graphic representation of the temporal trends in response to different payment cases informative in financial decision making"
   ],
   "metadata": {}
  },
  {
   "cell_type": "code",
   "execution_count": 2,
   "source": [
    "# APR = ((Interest + Fees / Loan amount) / Number of days in loan term)) x 365 x 100\r\n",
    "I = 1409.38\r\n",
    "L = 615000\r\n",
    "D = 30\r\n",
    "\r\n",
    "APR = (I / L / D) * 365\r\n",
    "APR"
   ],
   "outputs": [
    {
     "output_type": "execute_result",
     "data": {
      "text/plain": [
       "0.027882043360433605"
      ]
     },
     "metadata": {},
     "execution_count": 2
    }
   ],
   "metadata": {}
  },
  {
   "cell_type": "code",
   "execution_count": 12,
   "source": [
    "# M= P[r(1+r)^n/((1+r)^n)-1)]\r\n",
    "\r\n",
    "# M = the total monthly mortgage payment.\r\n",
    "\r\n",
    "# P = the principal loan amount.\r\n",
    "\r\n",
    "# r = your monthly interest rate. Lenders provide you an annual rate so you’ll need to divide that figure by 12 (the number of months in a year) to get the monthly rate. \r\n",
    "# If your interest rate is 5 percent, your monthly rate would be 0.004167 (0.05/12=0.004167).\r\n",
    "\r\n",
    "# n = number of payments over the loan’s lifetime. Multiply the number of years in your loan term by 12 (the number of months in a year) to get the number of payments for your loan. \r\n",
    "# For example, a 30-year fixed mortgage would have 360 payments (30x12=360).\r\n",
    "\r\n",
    "P = 615000\r\n",
    "r = 0.0275 / 12\r\n",
    "n = 30 * 12\r\n",
    "\r\n",
    "M = P * (r * (1+r) ** n / ((1+r)**n)-1)\r\n",
    "\r\n",
    "monthly_interst = 615000+M"
   ],
   "outputs": [],
   "metadata": {}
  },
  {
   "cell_type": "code",
   "execution_count": 14,
   "source": [
    "print(f'Monthly Interest is ${monthly_interst}')"
   ],
   "outputs": [
    {
     "output_type": "stream",
     "name": "stdout",
     "text": [
      "Monthly Interest is $1409.375\n"
     ]
    }
   ],
   "metadata": {}
  }
 ],
 "metadata": {
  "orig_nbformat": 4,
  "language_info": {
   "name": "python",
   "version": "3.8.10",
   "mimetype": "text/x-python",
   "codemirror_mode": {
    "name": "ipython",
    "version": 3
   },
   "pygments_lexer": "ipython3",
   "nbconvert_exporter": "python",
   "file_extension": ".py"
  },
  "kernelspec": {
   "name": "python3",
   "display_name": "Python 3.8.10 64-bit (windows store)"
  },
  "interpreter": {
   "hash": "ebf20119e036fbe69c35eaa30a9897466096db747ffea3bbdf7fa1c6721ce681"
  }
 },
 "nbformat": 4,
 "nbformat_minor": 2
}